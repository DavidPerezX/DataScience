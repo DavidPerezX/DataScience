{
  "cells": [
    {
      "cell_type": "markdown",
      "id": "6793219d",
      "metadata": {
        "id": "6793219d"
      },
      "source": [
        "# Ejercicio 1"
      ]
    },
    {
      "cell_type": "code",
      "execution_count": null,
      "id": "564fc511",
      "metadata": {
        "id": "564fc511"
      },
      "outputs": [],
      "source": [
        "# Realizar una función que compare e indique cual es mayor o mas fuerte de las evoluciones de Pikachu."
      ]
    },
    {
      "cell_type": "markdown",
      "id": "6d8f8d44",
      "metadata": {
        "id": "6d8f8d44"
      },
      "source": [
        "# Evoluciones: ['Pichu', 'Pikachu', 'Raichu']"
      ]
    },
    {
      "cell_type": "code",
      "execution_count": null,
      "id": "97b61aa8",
      "metadata": {
        "id": "97b61aa8"
      },
      "outputs": [],
      "source": [
        "# Pikachu (2)  es mas fuerte que  Pichu (1)\n",
        "# Raichu (3) es más fuerte que Pikachu (2)"
      ]
    },
    {
      "cell_type": "code",
      "execution_count": 1,
      "id": "2562b49b",
      "metadata": {
        "id": "2562b49b"
      },
      "outputs": [],
      "source": [
        "pokemons = {'Pichu':1, 'Pikachu':2, 'Raichu':3}\n",
        "\n",
        "def razonamiento_automatico(nombre_a, peso_a ,nombre_b, peso_b,nombre_c,peso_c):\n",
        "    if pokemons[\"Pikachu\"]>pokemons[\"Pichu\"]:\n",
        "      print(\"Pikachu es más fuerte que Pichu\")\n",
        "    if pokemons[\"Raichu\"]>pokemons[\"Pikachu\"]:\n",
        "      print(\"Raichu es más fuerte que Pikachu\")"
      ]
    },
    {
      "cell_type": "code",
      "execution_count": null,
      "id": "31b594e1",
      "metadata": {
        "id": "31b594e1"
      },
      "outputs": [],
      "source": [
        "# No retornar nada, solo imprimir"
      ]
    },
    {
      "cell_type": "code",
      "execution_count": 4,
      "id": "e6163270",
      "metadata": {
        "id": "e6163270",
        "outputId": "d32e75fe-8fdf-4202-eb1d-82d0c114606b",
        "colab": {
          "base_uri": "https://localhost:8080/"
        }
      },
      "outputs": [
        {
          "output_type": "stream",
          "name": "stdout",
          "text": [
            "Pikachu es más fuerte que Pichu\n",
            "Raichu es más fuerte que Pikachu\n"
          ]
        }
      ],
      "source": [
        "razonamiento_automatico(\"Pichu\",1,\"Pikachu\",2,\"Raichu\",3)"
      ]
    },
    {
      "cell_type": "markdown",
      "id": "6f2a5991",
      "metadata": {
        "id": "6f2a5991"
      },
      "source": [
        "# Ejercicio 2"
      ]
    },
    {
      "cell_type": "code",
      "execution_count": 15,
      "id": "53486f69",
      "metadata": {
        "id": "53486f69"
      },
      "outputs": [],
      "source": [
        "dicci_pokemon={'Nombre': 'Pikachu',\n",
        " 'Peso(Kgs)': 9,\n",
        " 'Grupo': 'Eléctrico',\n",
        " 'Evolucion': ['Pichu', 'Pikachu', 'Raichu']}\n",
        "lista=[]\n",
        "def razonamiento_automatico(nombre_a, peso_a ,nombre_b, peso_b,nombre_c,peso_c):\n",
        "    lista=dicci_pokemon.get('Evolucion')\n",
        "\n",
        "        \n",
        "    return (lista) # retornar una lista con las evoluciones de pikachu"
      ]
    },
    {
      "cell_type": "code",
      "execution_count": null,
      "id": "ec8b2154",
      "metadata": {
        "id": "ec8b2154"
      },
      "outputs": [],
      "source": [
        "# Imprimir la comparación Retornar una lista con los nombres enviados y dejarlo en una variable"
      ]
    },
    {
      "cell_type": "code",
      "execution_count": 18,
      "id": "37e832a0",
      "metadata": {
        "id": "37e832a0"
      },
      "outputs": [],
      "source": [
        "variable=razonamiento_automatico(\"Pichu\",1,\"Pikachu\",2,\"Raichu\",3)"
      ]
    },
    {
      "cell_type": "code",
      "execution_count": 19,
      "id": "41134131",
      "metadata": {
        "id": "41134131",
        "outputId": "907de81b-364c-46c4-caa1-c0be8411699e",
        "colab": {
          "base_uri": "https://localhost:8080/"
        }
      },
      "outputs": [
        {
          "output_type": "execute_result",
          "data": {
            "text/plain": [
              "['Pichu', 'Pikachu', 'Raichu']"
            ]
          },
          "metadata": {},
          "execution_count": 19
        }
      ],
      "source": [
        "variable"
      ]
    }
  ],
  "metadata": {
    "kernelspec": {
      "display_name": "Python 3 (ipykernel)",
      "language": "python",
      "name": "python3"
    },
    "language_info": {
      "codemirror_mode": {
        "name": "ipython",
        "version": 3
      },
      "file_extension": ".py",
      "mimetype": "text/x-python",
      "name": "python",
      "nbconvert_exporter": "python",
      "pygments_lexer": "ipython3",
      "version": "3.7.6"
    },
    "colab": {
      "name": " Challenges Funciones.ipynb",
      "provenance": []
    }
  },
  "nbformat": 4,
  "nbformat_minor": 5
}