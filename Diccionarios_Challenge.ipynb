{
  "nbformat": 4,
  "nbformat_minor": 0,
  "metadata": {
    "colab": {
      "name": "Diccionarios Challenge.ipynb",
      "provenance": [],
      "collapsed_sections": []
    },
    "kernelspec": {
      "name": "python3",
      "display_name": "Python 3"
    },
    "language_info": {
      "name": "python"
    }
  },
  "cells": [
    {
      "cell_type": "markdown",
      "source": [
        "1.-Escribir un programa que guarde en una variable el diccionario {'Euro':'€', 'Dollar':'$', 'Yen':'¥'}, pregunte al usuario por una divisa y muestre su símbolo o un mensaje de aviso si la divisa no está en el diccionario."
      ],
      "metadata": {
        "id": "3LRtdYgIh7Dr"
      }
    },
    {
      "cell_type": "code",
      "source": [
        "divisas={'Euro':'€', 'Dollar':'$', 'Yen':'¥'}\n",
        "preguntax=input(\"¿Qué divisa quieres? \")\n",
        "pregunta=preguntax.lower()\n",
        "print(divisas.get(pregunta.title(), \"La divisa no existe en el diccionario.\"))"
      ],
      "metadata": {
        "id": "Jraiq1jmh8z5",
        "colab": {
          "base_uri": "https://localhost:8080/"
        },
        "outputId": "416fb50d-4b29-45e5-b58a-9e62099b2fd3"
      },
      "execution_count": null,
      "outputs": [
        {
          "output_type": "stream",
          "name": "stdout",
          "text": [
            "¿Qué divisa quieres? yen\n",
            "¥\n"
          ]
        }
      ]
    },
    {
      "cell_type": "markdown",
      "source": [
        "2.-Escribir un programa que pregunte al usuario su nombre, edad, dirección y teléfono y lo guarde en un diccionario. Después debe mostrar por pantalla el mensaje tiene años, vive en <dirección> y su número de teléfono es <teléfono>."
      ],
      "metadata": {
        "id": "C0vBw1VMh9NT"
      }
    },
    {
      "cell_type": "code",
      "source": [
        "nombre = input('¿Cómo te llamas? ')\n",
        "edad = input('¿Cuántos años tienes? ')\n",
        "direccion = input('¿Cuál es tu dirección? ')\n",
        "telefono = input('¿Cuál es tu número de teléfono? ')\n",
        "dic = {'nombre': nombre, 'edad': edad, 'direccion': direccion, 'telefono': telefono}\n",
        "print(dic['nombre'], 'tiene', dic['edad'], 'años, vive en', dic['direccion'], 'y su número de teléfono es', dic['telefono'])"
      ],
      "metadata": {
        "id": "FYlcftofiDry",
        "colab": {
          "base_uri": "https://localhost:8080/"
        },
        "outputId": "69da4cb5-f84d-449c-9db8-b4808babfdc2"
      },
      "execution_count": null,
      "outputs": [
        {
          "output_type": "stream",
          "name": "stdout",
          "text": [
            "¿Cómo te llamas? Carlos\n",
            "¿Cuántos años tienes? 22\n",
            "¿Cuál es tu dirección? Neza\n",
            "¿Cuál es tu número de teléfono? 553536233\n",
            "Carlos tiene 22 años, vive en Neza y su número de teléfono es 553536233\n"
          ]
        }
      ]
    },
    {
      "cell_type": "markdown",
      "source": [
        "3.-Escribir un programa que cree un diccionario vacío y lo vaya llenado con información sobre una persona (por ejemplo nombre, edad, sexo, teléfono, correo electrónico, etc.) que se le pida al usuario. Cada vez que se añada un nuevo dato debe imprimirse el contenido del diccionario."
      ],
      "metadata": {
        "id": "5txz3j5ViK3V"
      }
    },
    {
      "cell_type": "code",
      "source": [
        "persona = {}\n",
        "continuar = True\n",
        "while continuar:\n",
        "    clave = input('¿Qué dato quieres introducir? ')\n",
        "    valor = input(clave + ': ')\n",
        "    persona[clave] = valor\n",
        "    print(persona)\n",
        "    continuar = input('¿Quieres añadir más información (si/no)? ') == \"si\""
      ],
      "metadata": {
        "id": "f_176O-JiL28",
        "colab": {
          "base_uri": "https://localhost:8080/"
        },
        "outputId": "a5364f72-aed5-41cf-b9b3-bbfa79a64ea3"
      },
      "execution_count": null,
      "outputs": [
        {
          "name": "stdout",
          "output_type": "stream",
          "text": [
            "¿Qué dato quieres introducir? nombre\n",
            "nombre: juan\n",
            "{'nombre': 'juan'}\n",
            "¿Quieres añadir más información (Si/No)? Si\n",
            "¿Qué dato quieres introducir? telefono\n",
            "telefono: 33747423\n",
            "{'nombre': 'juan', 'telefono': '33747423'}\n",
            "¿Quieres añadir más información (Si/No)? no\n"
          ]
        }
      ]
    }
  ]
}