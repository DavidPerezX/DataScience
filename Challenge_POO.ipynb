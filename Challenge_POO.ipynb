{
  "nbformat": 4,
  "nbformat_minor": 0,
  "metadata": {
    "colab": {
      "name": "Challenge_POO.ipynb",
      "provenance": []
    },
    "kernelspec": {
      "name": "python3",
      "display_name": "Python 3"
    },
    "language_info": {
      "name": "python"
    }
  },
  "cells": [
    {
      "cell_type": "markdown",
      "source": [
        "##Ejercicio 1\n",
        "Realizar un programa que conste de una clase llamada Alumno que tenga como atributos el nombre y la nota del alumno. Definir los métodos para inicializar sus atributos, imprimirlos y mostrar un mensaje con el resultado de la nota y si ha aprobado o no.\n"
      ],
      "metadata": {
        "id": "4EFGoEpOl5J9"
      }
    },
    {
      "cell_type": "code",
      "source": [
        "class Alumno():\n",
        "    def __init__(self,nombre,nota):  \n",
        "      self.nombre=nombre\n",
        "      self.nota=nota\n",
        "\n",
        "    def imprimir(self): \n",
        "        return print(\"Alumno:\",self.nombre,\"Nota:\",self.nota)\n",
        "\n",
        "    def aprobacionNota(self):   \n",
        "        if self.nota > 5:\n",
        "          print(\"Aprobó la materia \\n------\")\n",
        "        else:\n",
        "          print(\"Reprobó la materia \\n-----\")\n",
        "\n",
        "alumno1=Alumno(\"Miguel\", 5)\n",
        "alumno2=Alumno(\"Inés\", 9)\n",
        "\n",
        "alumno1.imprimir()\n",
        "alumno1.aprobacionNota()\n",
        "alumno2.imprimir()\n",
        "alumno2.aprobacionNota()\n"
      ],
      "metadata": {
        "id": "P9ullKnYnFfF",
        "colab": {
          "base_uri": "https://localhost:8080/"
        },
        "outputId": "f9918971-ba29-4905-de3f-801dcdb1036e"
      },
      "execution_count": null,
      "outputs": [
        {
          "output_type": "stream",
          "name": "stdout",
          "text": [
            "Alumno: Miguel Nota: 5\n",
            "Reprobo la materia \n",
            "-----\n",
            "Alumno: Inés Nota: 9\n",
            "Aprobo la materia \n",
            "------\n"
          ]
        }
      ]
    },
    {
      "cell_type": "markdown",
      "source": [
        "##Ejercicio 2\n",
        "Realizar un programa que tenga una clase Persona con las siguientes características. La clase tendrá como atributos el nombre y la edad de una persona. Implementar los métodos necesarios para inicializar los atributos, mostrar los datos e indicar si la persona es mayor de edad o no.\n"
      ],
      "metadata": {
        "id": "b_bGLJVvmDb5"
      }
    },
    {
      "cell_type": "code",
      "source": [
        "class Persona():\n",
        "  def __init__(self, nombre, edad):\n",
        "    self.nombre=nombre\n",
        "    self.edad=edad\n",
        "\n",
        "  def imprimir(self): \n",
        "        return print(\"Nombre:\",self.nombre,\"Edad:\",self.edad)\n",
        "  \n",
        "  def mayorEdad(self):   \n",
        "        if self.edad > 17:\n",
        "          print(\"Es mayor de edad \\n---------------\")\n",
        "        else:\n",
        "          print(\"Es menor de edad \\n---------------\")\n",
        "\n",
        "\n",
        "persona1=Persona(\"Miguel\", 17)\n",
        "persona2=Persona(\"Inés\", 18)\n",
        "\n",
        "persona1.imprimir()\n",
        "persona1.mayorEdad()\n",
        "persona2.imprimir()\n",
        "persona2.mayorEdad()\n",
        "      "
      ],
      "metadata": {
        "id": "t_Kbaj2EnF9N",
        "colab": {
          "base_uri": "https://localhost:8080/"
        },
        "outputId": "8da7b655-4883-4672-f0db-8d7b72c41bfa"
      },
      "execution_count": null,
      "outputs": [
        {
          "output_type": "stream",
          "name": "stdout",
          "text": [
            "Nombre: Miguel Edad: 17\n",
            "Es menor de edad \n",
            "---------------\n",
            "Nombre: Inés Edad: 18\n",
            "Es mayor de edad \n",
            "---------------\n"
          ]
        }
      ]
    },
    {
      "cell_type": "markdown",
      "source": [
        "##Ejercicio 3\n",
        "Desarrollar un programa que cargue los datos de un triángulo. Implementar una clase con los métodos para inicializar los atributos, imprimir el valor del lado con un tamaño mayor y  el tipo de triángulo que es (equilátero, isósceles o escaleno).\n"
      ],
      "metadata": {
        "id": "Esf21Be0mTBn"
      }
    },
    {
      "cell_type": "code",
      "source": [
        "class Triangulo():\n",
        "    def __init__(self,ladoA,ladoB,ladoC):\n",
        "        self.ladoA = int(input(\"Ingresa el primer lado: \"))\n",
        "        self.ladoB = int(input(\"Ingresa el segundo lado: \"))\n",
        "        self.ladoC = int(input(\"Ingresa el tercer lado: \"))\n",
        "\n",
        "    def mayor(self):\n",
        "      if self.ladoA > self.ladoB and self.ladoA > self.ladoC :\n",
        "        print(f\"{self.ladoA} es el lado más grande\")\n",
        "      elif self.ladoB > self.ladoA and self.ladoB > self.ladoC:\n",
        "        print(f\"{self.ladoB} es el lado más grande\")\n",
        "      elif self.ladoC > self.ladoA and self.ladoC > self.ladoB:\n",
        "        print(f\"{self.ladoC} es el lado más grande\")\n",
        "      elif self.ladoA == self.ladoB and self.ladoA == self.ladoC:\n",
        "        print(\"Todos los lados son iguales\")\n",
        "      else:\n",
        "        print(\"Dos lados son igual de mayores\")\n",
        "  \n",
        "\n",
        "    def tipoTriangulo(self):\n",
        "        print(\"Tipo de triangulo:\")\n",
        "        if self.ladoA == self.ladoB and self.ladoA == self.ladoC:\n",
        "            print(\"Equilátero\")\n",
        "        elif self.ladoA == self.ladoB or self.ladoA == self.ladoC or self.ladoB == self.ladoC:\n",
        "            print(\"Isósceles\") \n",
        "        else:\n",
        "            print(\"Escaleno\") \n",
        "\n",
        "triangulo1=Triangulo(1,1,1)\n",
        "triangulo1.mayor()\n",
        "triangulo1.tipoTriangulo()\n",
        "\n",
        "\n",
        "      "
      ],
      "metadata": {
        "id": "sPqi1jqCnGfD",
        "colab": {
          "base_uri": "https://localhost:8080/"
        },
        "outputId": "d20b89da-0fdc-44b7-b242-ea1f9268b47e"
      },
      "execution_count": null,
      "outputs": [
        {
          "output_type": "stream",
          "name": "stdout",
          "text": [
            "Ingresa el primer lado: 3\n",
            "Ingresa el segundo lado: 3\n",
            "Ingresa el tercer lado: 3\n",
            "Todos los lados son iguales\n",
            "Tipo de triangulo:\n",
            "Equilátero\n"
          ]
        }
      ]
    },
    {
      "cell_type": "markdown",
      "source": [
        "##Ejercicio 4\n",
        "Realizar un programa en el cual se declaren dos valores enteros por teclado utilizando el método __init__. Calcular después la suma, resta, multiplicación y división. Utilizar un método para cada una e imprimir los resultados obtenidos. Llamar a la clase Calculadora."
      ],
      "metadata": {
        "id": "FuDVAwyLmXM_"
      }
    },
    {
      "cell_type": "code",
      "source": [
        "class Calculadora():\n",
        "  def __init__(self,numero1,numero2):\n",
        "    self.numero1 = int(input(\"Ingrese el primer numero: \"))\n",
        "    self.numero2 = int(input(\"Ingrese el segundo numero: \"))\n",
        "\n",
        "  def calculaTodo(self):\n",
        "    print(\"La suma es:\",self.numero1+self.numero2)\n",
        "    print(\"La resta es:\",self.numero1-self.numero2)\n",
        "    print(\"La multiplicacion es:\",self.numero1*self.numero2)\n",
        "    print(\"La division es:\",self.numero1/self.numero2)\n",
        "\n",
        "  def suma(self):\n",
        "    print(\"La suma es:\")\n",
        "    return self.numero1+self.numero2 \n",
        "  def resta(self):\n",
        "    print(\"La resta es:\")  \n",
        "    return self.numero1-self.numero2\n",
        "  def multiplicacion(self):\n",
        "    print(\"La x es:\")\n",
        "    return self.numero1*self.numero2      \n",
        "  def division(self): \n",
        "    print(\"La división es:\")\n",
        "    return self.numero1/self.numero2  \n",
        "\n",
        "operacion1=Calculadora(1,1)\n",
        "operacion1.calculaTodo()\n",
        "operacion1.resta()\n",
        "\n"
      ],
      "metadata": {
        "id": "VnFcFidTnG-O",
        "colab": {
          "base_uri": "https://localhost:8080/"
        },
        "outputId": "96f081be-8af7-44d3-e98e-fbde02ce368d"
      },
      "execution_count": null,
      "outputs": [
        {
          "output_type": "stream",
          "name": "stdout",
          "text": [
            "Ingrese el primer numero: 15\n",
            "Ingrese el segundo numero: 2\n",
            "La suma es: 17\n",
            "La resta es: 13\n",
            "La multiplicacion es: 30\n",
            "La division es: 7.5\n",
            "La resta es:\n"
          ]
        },
        {
          "output_type": "execute_result",
          "data": {
            "text/plain": [
              "13"
            ]
          },
          "metadata": {},
          "execution_count": 98
        }
      ]
    },
    {
      "cell_type": "markdown",
      "source": [
        "##Ejercicio 5\n",
        "Realizar una clase que administre una agenda. Se debe almacenar para cada contacto el nombre, el teléfono y el email. Además deberá mostrar un menú con las siguientes opciones\n",
        "\n",
        "\n",
        "\n",
        "*   Añadir contacto\n",
        "*   Lista de contactos\n",
        "*   Buscar contacto\n",
        "*   Editar contacto\n",
        "*   Cerrar agenda"
      ],
      "metadata": {
        "id": "NmarrIA6mdo5"
      }
    },
    {
      "cell_type": "code",
      "source": [
        "import sys\n",
        "\n",
        "class Agenda:\n",
        "\tdef __init__(self):\n",
        "\t\tself.contactos=[]\n",
        "\n",
        "\tdef menu(self):\n",
        "\t\tprint()\n",
        "\t\tmenu=[\n",
        "\t\t\t['Agenda '],\n",
        "\t\t\t['1. Añadir Contacto',\"anadir\"],\n",
        "\t\t\t['2. Lista de contactos'],\n",
        "\t\t\t['3. Buscar contacto'],\n",
        "\t\t\t['4. Editar contacto'],\n",
        "\t\t\t['5. Cerrar agenda']\n",
        "\t\t]\n",
        "\n",
        "\t\tfor i in range(6):\n",
        "\t\t\tprint(menu[i][0])\n",
        "\n",
        "\t\topcion=int(input(\"Introduzca la opción deseada: \"))\n",
        "\t\tif opcion==1:\n",
        "\t\t\tself.anadir()\n",
        "\t\telif opcion==2:\n",
        "\t\t\tself.lista()\n",
        "\t\telif opcion==3:\n",
        "\t\t\tself.buscar()\n",
        "\t\telif opcion==4:\n",
        "\t\t\tself.editar()\n",
        "\t\telif opcion==5:\n",
        "\t\t\tself.salir()\n",
        "\t\tself.menu()\n",
        "  \n",
        "\tdef salir(self):\n",
        "\t\tsys.exit(\"Saliendo de la agenda\")\n",
        "\n",
        "\n",
        "\tdef anadir(self):\n",
        "\t\tprint(\"---------------------\")\n",
        "\t\tprint(\"Añadir nuevo contacto\")\n",
        "\t\tprint(\"---------------------\")\n",
        "\t\tnom=input(\"Introduzca el nombre: \")\n",
        "\t\ttelf=int(input(\"Introduzca el teléfono: \"))\n",
        "\t\temail=input(\"Introduzca el email: \")\n",
        "\t\tself.contactos.append({'nombre':nom,'telf':telf,'email':email})\n",
        "\t\t\n",
        "\tdef lista(self):\n",
        "\t\tprint(\"------------------\")\n",
        "\t\tprint(\"Lista de contactos\")\n",
        "\t\tprint(\"------------------\")\n",
        "\t\tif len(self.contactos) == 0:\n",
        "\t\t\tprint(\"No hay ningún contacto en la agenda\")\n",
        "\t\telse:\n",
        "\t\t\tfor x in range(len(self.contactos)):\n",
        "\t\t\t\tprint(self.contactos[x]['nombre'])\n",
        "\t\t\n",
        "\tdef buscar(self):\n",
        "\t\tprint(\"---------------------\")\n",
        "\t\tprint(\"Buscador de contactos\")\n",
        "\t\tprint(\"---------------------\")\n",
        "\t\tnom=input(\"Introduzca el nombre del contacto: \")\n",
        "\t\tfor x in range(len(self.contactos)):\n",
        "\t\t\tif nom == self.contactos[x]['nombre']:\n",
        "\t\t\t\tprint(\"Datos del contacto\")\n",
        "\t\t\t\tprint(\"Nombre: \",self.contactos[x]['nombre'])\n",
        "\t\t\t\tprint(\"Teléfono: \",self.contactos[x]['telf'])\n",
        "\t\t\t\tprint(\"E-mail: \",self.contactos[x]['email'])\n",
        "\t\t\t\treturn x\n",
        "\t\t\n",
        "\tdef editar(self):\n",
        "\t\tprint(\"---------------\")\n",
        "\t\tprint(\"Editar contacto\")\n",
        "\t\tprint(\"---------------\")\n",
        "\t\tdata=self.buscar()\n",
        "\t\tcondition=False\n",
        "\t\twhile condition==False:\n",
        "\t\t\tprint(\"Selecciona que quieres editar: \")\n",
        "\t\t\tprint(\"1. Nombre\")\n",
        "\t\t\tprint(\"2. Teléfono\")\n",
        "\t\t\tprint(\"3. E-mail\")\n",
        "\t\t\tprint(\"4. Volver\")\n",
        "\t\t\toption=int(input(\"Introduzca la opción deseada: \"))\n",
        "\t\t\tif option==1:\n",
        "\t\t\t\tnom=input(\"Introduzca el nuevo nombre: \")\n",
        "\t\t\t\tself.contactos[data]['nombre']=nom\n",
        "\t\t\telif option==2:\n",
        "\t\t\t\ttelf=input(\"Introduzca el nuevo teléfono: \")\n",
        "\t\t\t\tself.contactos[data]['telf']=telf\n",
        "\t\t\telif option==3:\n",
        "\t\t\t\temail=input(\"Introduzca el nuevo email: \")\n",
        "\t\t\t\tself.contactos[data]['email']=email\n",
        "\t\t\telif option==4:\n",
        "\t\t\t\tcondition=True\n",
        "\n",
        "agenda=Agenda()\n",
        "agenda.menu()"
      ],
      "metadata": {
        "id": "hvhudvVInHpR",
        "colab": {
          "base_uri": "https://localhost:8080/",
          "height": 770
        },
        "outputId": "9cb6f016-77cd-4ebe-b737-84a25b9d4112"
      },
      "execution_count": null,
      "outputs": [
        {
          "name": "stdout",
          "output_type": "stream",
          "text": [
            "\n",
            "Agenda \n",
            "1. Añadir Contacto\n",
            "2. Lista de contactos\n",
            "3. Buscar contacto\n",
            "4. Editar contacto\n",
            "5. Cerrar agenda\n",
            "Introduzca la opción deseada: 1\n",
            "---------------------\n",
            "Añadir nuevo contacto\n",
            "---------------------\n",
            "Introduzca el nombre: Mike\n",
            "Introduzca el teléfono: 364647434\n",
            "Introduzca el email: mike@gmail.com\n",
            "\n",
            "Agenda \n",
            "1. Añadir Contacto\n",
            "2. Lista de contactos\n",
            "3. Buscar contacto\n",
            "4. Editar contacto\n",
            "5. Cerrar agenda\n",
            "Introduzca la opción deseada: 2\n",
            "------------------\n",
            "Lista de contactos\n",
            "------------------\n",
            "Mike\n",
            "\n",
            "Agenda \n",
            "1. Añadir Contacto\n",
            "2. Lista de contactos\n",
            "3. Buscar contacto\n",
            "4. Editar contacto\n",
            "5. Cerrar agenda\n",
            "Introduzca la opción deseada: 5\n"
          ]
        },
        {
          "output_type": "error",
          "ename": "SystemExit",
          "evalue": "ignored",
          "traceback": [
            "An exception has occurred, use %tb to see the full traceback.\n",
            "\u001b[0;31mSystemExit\u001b[0m\u001b[0;31m:\u001b[0m Saliendo de la agenda\n"
          ]
        },
        {
          "output_type": "stream",
          "name": "stderr",
          "text": [
            "/usr/local/lib/python3.7/dist-packages/IPython/core/interactiveshell.py:2890: UserWarning: To exit: use 'exit', 'quit', or Ctrl-D.\n",
            "  warn(\"To exit: use 'exit', 'quit', or Ctrl-D.\", stacklevel=1)\n"
          ]
        }
      ]
    },
    {
      "cell_type": "markdown",
      "source": [
        "##Ejercicio 6\n",
        "En un banco tienen clientes que pueden hacer depósitos y extracciones de dinero. El banco requiere también al final del día calcular la cantidad de dinero que se ha depositado.\n",
        "\n",
        "Se deberán crear dos clases, la clase cliente y la clase banco. La clase cliente tendrá los atributos nombre y cantidad y los métodos __init__, depositar, extraer, mostrar_total.\n",
        "\n",
        "La clase banco tendrá como atributos 3 objetos de la clase cliente y los métodos __init__, operar y deposito_total."
      ],
      "metadata": {
        "id": "pIFlDlAnmyyh"
      }
    },
    {
      "cell_type": "code",
      "source": [
        "class Cliente():\n",
        "\tdef __init__(self,nombre):\n",
        "\t\tself.nombre = nombre\n",
        "\t\tself.cantidad = 0\n",
        "\t\n",
        "\tdef depositar(self,cantidad):\n",
        "\t\tself.cantidad += cantidad\n",
        "\t\n",
        "\tdef retirar(self,cantidad):\n",
        "\t\tself.cantidad -= cantidad\n",
        "\t\n",
        "\tdef mostrar(self):\n",
        "\t\tprint(\"Nombre: \",self.nombre)\n",
        "\t\tprint(\"Cantidad: \",self.cantidad)\n",
        "\t\tprint(\"---------------\")\n",
        "    \n",
        "\t\n",
        "\tdef devolverCantidad(self):\n",
        "\t\treturn self.cantidad\n",
        "\n",
        "class Banco():\n",
        "\tdef __init__(self):\n",
        "\t\tself.cliente1 = Cliente(\"Jimena\")\n",
        "\t\tself.cliente2 = Cliente(\"Marcos\")\n",
        "\t\tself.cliente3 = Cliente(\"Alejandra\")\n",
        "\n",
        "\n",
        "\tdef operar(self):\n",
        "\t\tself.cliente1.depositar(3000)\n",
        "\t\tself.cliente2.depositar(5100)\n",
        "\t\tself.cliente3.depositar(9400)\n",
        "\t\tself.cliente3.retirar(400)\n",
        "\n",
        "\tdef depositoTotal(self):\n",
        "\t\ttotal = self.cliente1.devolverCantidad() + self.cliente2.devolverCantidad() + self.cliente3.devolverCantidad()\n",
        "\t\tprint(\"El dinero total en el banco es:\",total)\n",
        "\t\tself.cliente1.mostrar()\n",
        "\t\tself.cliente2.mostrar()\n",
        "\t\tself.cliente3.mostrar()\n",
        "\n",
        "banco1=Banco()\n",
        "banco1.operar()\n",
        "banco1.depositoTotal()"
      ],
      "metadata": {
        "id": "7gjXBfvCnIQJ",
        "colab": {
          "base_uri": "https://localhost:8080/"
        },
        "outputId": "1a6161c6-032e-4bbe-bb6b-1713270de7a3"
      },
      "execution_count": 13,
      "outputs": [
        {
          "output_type": "stream",
          "name": "stdout",
          "text": [
            "El dinero total en el banco es: 17100\n",
            "Nombre:  Jimena\n",
            "Cantidad:  3000\n",
            "---------------\n",
            "Nombre:  Marcos\n",
            "Cantidad:  5100\n",
            "---------------\n",
            "Nombre:  Alejandra\n",
            "Cantidad:  9000\n",
            "---------------\n"
          ]
        }
      ]
    },
    {
      "cell_type": "markdown",
      "source": [
        "##Ejercicio 7\n",
        "Desarrollar un programa que conste de una clase padre Cuenta y dos subclases PlazoFijo y CajaAhorro. Definir los atributos titular y cantidad y un método para imprimir los datos en la clase Cuenta. La clase CajaAhorro tendrá un método para heredar los datos y uno para mostrar la información.\n",
        "\n",
        "La clase PlazoFijo tendrá dos atributos propios, plazo e interés. Tendrá un método para obtener el importe del interés (cantidad*interés/100) y otro método para mostrar la información, datos del titular plazo, interés y total de interés.\n",
        "\n",
        "Crear al menos un objeto de cada subclase.\n",
        "\n"
      ],
      "metadata": {
        "id": "B7ZTRLdum2NG"
      }
    },
    {
      "cell_type": "code",
      "source": [
        "class Cuenta:\n",
        "\tdef __init__(self,titular,cantidad):\n",
        "\t\tself.titular=titular\n",
        "\t\tself.cantidad=cantidad\n",
        "\n",
        "\tdef imprimir(self):\n",
        "\t\tprint(\"Titular:\",self.titular)\n",
        "\t\tprint(\"Cantidad:\", self.cantidad)\n",
        " \n",
        "class CajaAhorro(Cuenta):\n",
        "\tdef __init__(self,titular,cantidad):\n",
        "\t\tsuper().__init__(titular,cantidad)\n",
        " \n",
        "\tdef imprimir(self):\n",
        "\t\tprint(\"Cuenta de caja de ahorro\")\n",
        "\t\tsuper().imprimir()\n",
        " \n",
        "class PlazoFijo(Cuenta):\n",
        "\tdef __init__(self,titular,cantidad,plazo,interes):\n",
        "\t\tsuper().__init__(titular,cantidad)\n",
        "\t\tself.plazo=plazo\n",
        "\t\tself.interes=interes\n",
        "\n",
        "\tdef ganancia(self):\n",
        "\t\tganancia=self.cantidad*self.interes/100\n",
        "\t\tprint(\"El importe de interés es: \",ganancia)\n",
        " \n",
        "\tdef imprimir(self):\n",
        "\t\tprint(\"Cuenta a plazo fijo\")\n",
        "\t\tsuper().imprimir()\n",
        "\t\tprint(\"Plazo disponible en días: \",self.plazo)\n",
        "\t\tprint(\"Interés: \",self.interes)\n",
        "\t\tself.ganancia()\n",
        " \n",
        " \n",
        "\n",
        "caja1=CajaAhorro(\"Andrea\",4000)\n",
        "caja1.imprimir()\n",
        "plazo1=PlazoFijo(\"Isabel\",6000,365,1.2)\n",
        "plazo1.imprimir()"
      ],
      "metadata": {
        "id": "F2wvhFNYnI2Z",
        "colab": {
          "base_uri": "https://localhost:8080/"
        },
        "outputId": "592502d2-fa7b-474a-b6c0-92aea0e84a61"
      },
      "execution_count": 14,
      "outputs": [
        {
          "output_type": "stream",
          "name": "stdout",
          "text": [
            "Cuenta de caja de ahorro\n",
            "Titular: Andrea\n",
            "Cantidad: 4000\n",
            "Cuenta a plazo fijo\n",
            "Titular: Isabel\n",
            "Cantidad: 6000\n",
            "Plazo disponible en días:  365\n",
            "Interés:  1.2\n",
            "El importe de interés es:  72.0\n"
          ]
        }
      ]
    }
  ]
}